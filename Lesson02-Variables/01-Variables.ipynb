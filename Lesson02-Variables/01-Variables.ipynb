{
 "cells": [
  {
   "cell_type": "markdown",
   "metadata": {},
   "source": [
    "<h1>Variables</h1>"
   ]
  },
  {
   "cell_type": "markdown",
   "metadata": {},
   "source": [
    "Variables are also used to store the data types like string, integer, and float values."
   ]
  },
  {
   "cell_type": "markdown",
   "metadata": {},
   "source": [
    "<h5>Example</h5>"
   ]
  },
  {
   "cell_type": "code",
   "execution_count": 2,
   "metadata": {},
   "outputs": [
    {
     "name": "stdout",
     "output_type": "stream",
     "text": [
      "Hello Python World\n",
      "Hello Python World\n",
      "Hello Python World\n",
      "100\n"
     ]
    }
   ],
   "source": [
    "message1 = 'Hello Python World'\n",
    "message2 = \"Hello Python World\"\n",
    "message3 = \"\"\"Hello Python World\"\"\"\n",
    "message4 = 100\n",
    "\n",
    "print(message1)\n",
    "print(message2)\n",
    "print(message3)\n",
    "print(message4)"
   ]
  },
  {
   "cell_type": "markdown",
   "metadata": {},
   "source": [
    "A variable holds a value. You can change the value of variable at any point."
   ]
  },
  {
   "cell_type": "markdown",
   "metadata": {},
   "source": [
    "<h3>Naming Rules</h3>"
   ]
  },
  {
   "cell_type": "markdown",
   "metadata": {},
   "source": [
    "Variables can only contain letters, numbers and underscores"
   ]
  },
  {
   "cell_type": "markdown",
   "metadata": {},
   "source": [
    "Variable names can start with a letter or an underscore, but cannot start with an underscore."
   ]
  },
  {
   "cell_type": "markdown",
   "metadata": {},
   "source": [
    "Spaces are not allowed in variable names, so we use underscores instead of spaces. For example, use student_name instead of \"student name\"."
   ]
  },
  {
   "cell_type": "markdown",
   "metadata": {},
   "source": [
    "You cannot use python keywords as variable names.\n"
   ]
  },
  {
   "cell_type": "markdown",
   "metadata": {},
   "source": [
    "Variables names should be descriptive, without being too long. For example, mc_wheels instead of just \"wheels\" and number_of_wheels_on_a_motorcycle"
   ]
  },
  {
   "cell_type": "markdown",
   "metadata": {},
   "source": [
    "Variable names are case sensitive (Ram, ram, RAM are three different variables)\n"
   ]
  },
  {
   "cell_type": "code",
   "execution_count": null,
   "metadata": {},
   "outputs": [],
   "source": [
    "#Legal Variable Names\n",
    "myvar = \"hackers\"  \n",
    "my_var = \"hackers\"\n",
    "_my_var = \"hackers\"\n",
    "myVar = \"hackers\"\n",
    "MYVAR = \"hackers\"\n",
    "myvar2 = \"hackers\"\n",
    "\n",
    "#Illegal Variable Names\n",
    "2myvar = \"hackers\"\n",
    "my-var = \"hackers\"\n",
    "my var = \"hackers\""
   ]
  },
  {
   "cell_type": "markdown",
   "metadata": {},
   "source": [
    "<h2>NameError</h2>"
   ]
  },
  {
   "cell_type": "markdown",
   "metadata": {},
   "source": [
    "There is one common error when using variables, that you will most certainly encounter at some point. Take a look at this code, and see if you can figure out why it causes an error.\n"
   ]
  },
  {
   "cell_type": "code",
   "execution_count": 4,
   "metadata": {},
   "outputs": [
    {
     "ename": "NameError",
     "evalue": "name 'messages' is not defined",
     "output_type": "error",
     "traceback": [
      "\u001b[1;31m---------------------------------------------------------------------------\u001b[0m",
      "\u001b[1;31mNameError\u001b[0m                                 Traceback (most recent call last)",
      "Cell \u001b[1;32mIn[4], line 3\u001b[0m\n\u001b[0;32m      1\u001b[0m \u001b[39m# my variable name is message and not messages\u001b[39;00m\n\u001b[0;32m      2\u001b[0m message \u001b[39m=\u001b[39m  \u001b[39m\"\u001b[39m\u001b[39mThank you for sharing python with the world, Guido\u001b[39m\u001b[39m\"\u001b[39m\n\u001b[1;32m----> 3\u001b[0m \u001b[39mprint\u001b[39m(messages)\n",
      "\u001b[1;31mNameError\u001b[0m: name 'messages' is not defined"
     ]
    }
   ],
   "source": [
    "# my variable name is message and not messages\n",
    "message =  \"Thank you for sharing python with the world, Guido\"\n",
    "print(messages)"
   ]
  },
  {
   "cell_type": "markdown",
   "metadata": {},
   "source": [
    "Let's look through this error message. First, we see it is a NameError. Then we see the file that caused the error, and a green arrow shows us what line in that file caused the error. Then we get some more specific feedback, that \"name 'mesage' is not defined\"."
   ]
  },
  {
   "cell_type": "markdown",
   "metadata": {},
   "source": [
    "You may have already spotted the source of the error. We spelled message two different ways. Python does not care whether we use the\n",
    "variable name \"message\" or \"mesage\". Python only cares that the spellings of our variable names match every time we use them.\n"
   ]
  },
  {
   "cell_type": "markdown",
   "metadata": {},
   "source": [
    "We can fix NameErrors by making sure all of our variable names are spelled consistently."
   ]
  },
  {
   "cell_type": "code",
   "execution_count": 5,
   "metadata": {},
   "outputs": [
    {
     "name": "stdout",
     "output_type": "stream",
     "text": [
      "preparing young minds for future with AI\n"
     ]
    }
   ],
   "source": [
    "#Assigning a value to a variable\n",
    "message_for_kids = \"preparing young minds for future with AI\"\n",
    "print(message_for_kids)"
   ]
  },
  {
   "cell_type": "code",
   "execution_count": 6,
   "metadata": {},
   "outputs": [
    {
     "name": "stdout",
     "output_type": "stream",
     "text": [
      "preparing yound minds for future with AI\n",
      "100\n"
     ]
    }
   ],
   "source": [
    "#Changing the value of a variable \n",
    "message_for_kids = \"preparing yound minds for future with AI\"\n",
    "print(message_for_kids)\n",
    "message_for_kids= 100\n",
    "print(message_for_kids)"
   ]
  },
  {
   "cell_type": "code",
   "execution_count": 7,
   "metadata": {},
   "outputs": [
    {
     "name": "stdout",
     "output_type": "stream",
     "text": [
      "5\n",
      "<class 'int'>\n",
      "2.6\n",
      "<class 'float'>\n",
      "Hello\n",
      "<class 'str'>\n"
     ]
    }
   ],
   "source": [
    " #Assigning different values to different variables in single line\n",
    "a,b,c = 5,2.6,\"Hello\"\n",
    "print(a)\n",
    "print(type(a))\n",
    "print(b)\n",
    "print(type(b))\n",
    "print(c)\n",
    "print(type(c))"
   ]
  },
  {
   "cell_type": "code",
   "execution_count": 8,
   "metadata": {},
   "outputs": [
    {
     "name": "stdout",
     "output_type": "stream",
     "text": [
      "Same\n",
      "Same\n",
      "Same\n"
     ]
    }
   ],
   "source": [
    "# Assigning same value to different variable\n",
    "x=y=z=\"Same\"\n",
    "print(x)\n",
    "print(y)\n",
    "print(z)"
   ]
  },
  {
   "cell_type": "code",
   "execution_count": 9,
   "metadata": {},
   "outputs": [
    {
     "name": "stdout",
     "output_type": "stream",
     "text": [
      "12\n"
     ]
    },
    {
     "ename": "NameError",
     "evalue": "name 'num' is not defined",
     "output_type": "error",
     "traceback": [
      "\u001b[1;31m---------------------------------------------------------------------------\u001b[0m",
      "\u001b[1;31mNameError\u001b[0m                                 Traceback (most recent call last)",
      "Cell \u001b[1;32mIn[9], line 5\u001b[0m\n\u001b[0;32m      3\u001b[0m \u001b[39mprint\u001b[39m(num)\n\u001b[0;32m      4\u001b[0m \u001b[39mdel\u001b[39;00m num\n\u001b[1;32m----> 5\u001b[0m \u001b[39mprint\u001b[39m(num)\n",
      "\u001b[1;31mNameError\u001b[0m: name 'num' is not defined"
     ]
    }
   ],
   "source": [
    "# deleting a variable\n",
    "num = 12\n",
    "print(num)\n",
    "del num\n",
    "print(num)"
   ]
  },
  {
   "cell_type": "code",
   "execution_count": 10,
   "metadata": {},
   "outputs": [],
   "source": [
    "# variable type\n",
    "# string type variable\n",
    "# integer type variable\n",
    "# float type variable\n",
    "var = \"hello world\"\n",
    "var1 = 45\n",
    "var2 = 5.009\n",
    "var = \"a\""
   ]
  },
  {
   "cell_type": "code",
   "execution_count": 12,
   "metadata": {},
   "outputs": [],
   "source": [
    "#boolean variable type\n",
    "python = True\n",
    "java = False"
   ]
  },
  {
   "cell_type": "markdown",
   "metadata": {},
   "source": [
    "<h4>Exercises</h4>"
   ]
  },
  {
   "cell_type": "markdown",
   "metadata": {},
   "source": [
    "<h5>Hello World - variable</h5>\n"
   ]
  },
  {
   "cell_type": "markdown",
   "metadata": {},
   "source": [
    "Store your own version of the message \"Hello World\" in a variable, and print it.\n"
   ]
  },
  {
   "cell_type": "code",
   "execution_count": 13,
   "metadata": {},
   "outputs": [
    {
     "name": "stdout",
     "output_type": "stream",
     "text": [
      "Hello World\n"
     ]
    }
   ],
   "source": [
    "hw = \"Hello World\"\n",
    "print(hw)"
   ]
  },
  {
   "cell_type": "markdown",
   "metadata": {},
   "source": [
    "<h5>One Variable, Two Messages:</h5>"
   ]
  },
  {
   "cell_type": "markdown",
   "metadata": {},
   "source": [
    "Store a new message in the same variable, and then print that new message."
   ]
  },
  {
   "cell_type": "code",
   "execution_count": 14,
   "metadata": {},
   "outputs": [
    {
     "name": "stdout",
     "output_type": "stream",
     "text": [
      "Hello Python\n"
     ]
    }
   ],
   "source": [
    "var = \"Hello World\"\n",
    "\n",
    "var = \"Hello Python\"\n",
    "print(var)"
   ]
  }
 ],
 "metadata": {
  "kernelspec": {
   "display_name": "Python 3",
   "language": "python",
   "name": "python3"
  },
  "language_info": {
   "codemirror_mode": {
    "name": "ipython",
    "version": 3
   },
   "file_extension": ".py",
   "mimetype": "text/x-python",
   "name": "python",
   "nbconvert_exporter": "python",
   "pygments_lexer": "ipython3",
   "version": "3.11.5"
  },
  "orig_nbformat": 4
 },
 "nbformat": 4,
 "nbformat_minor": 2
}
